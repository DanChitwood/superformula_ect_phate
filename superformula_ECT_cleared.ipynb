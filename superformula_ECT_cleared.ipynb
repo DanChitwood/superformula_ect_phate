{
 "cells": [
  {
   "cell_type": "markdown",
   "metadata": {},
   "source": [
    "# Import modules"
   ]
  },
  {
   "cell_type": "code",
   "execution_count": null,
   "metadata": {},
   "outputs": [],
   "source": [
    "import matplotlib.pyplot as plt # for plotting\n",
    "import numpy as np # for numpy\n",
    "import math\n",
    "from math import pi, sin, cos # for math\n",
    "DEGREES_TO_RADIANS = pi / 180\n",
    "from math import isnan\n",
    "from ect import ECT, EmbeddedGraph # for creating ECT\n",
    "from sklearn.manifold import MDS # for MDS\n",
    "import pandas as pd\n",
    "import seaborn as sns\n",
    "\n",
    "#---------------------------\n",
    "# The PHATE packages we'll use\n",
    "#---------------------------\n",
    "import phate # for using PHATE # pip install --user phate\n",
    "import scprep # for using PHATE"
   ]
  },
  {
   "cell_type": "markdown",
   "metadata": {},
   "source": [
    "# Define functions"
   ]
  },
  {
   "cell_type": "code",
   "execution_count": null,
   "metadata": {},
   "outputs": [],
   "source": [
    "def superformula(phi, m, n1, n2, n3, a, b):\n",
    "    r = (np.abs((np.cos((m*phi)/4))/a)**n2 + np.abs((np.sin((m*phi)/4))/b)**n3)**(-1/n1)\n",
    "    return r\n",
    "\n",
    "def pol2cart(rho, phi):\n",
    "    x = rho * np.cos(phi)\n",
    "    y = rho * np.sin(phi)\n",
    "    return(x, y)\n",
    "    \n",
    "def cart2pol(x, y):\n",
    "    rho = np.sqrt(x**2 + y**2)\n",
    "    phi = np.arctan2(y, x)\n",
    "    return(rho, phi)"
   ]
  },
  {
   "cell_type": "markdown",
   "metadata": {},
   "source": [
    "# Superformula"
   ]
  },
  {
   "cell_type": "markdown",
   "metadata": {},
   "source": [
    "To generate shapes *de novo*, we will be using the superformula:\n",
    "\n",
    "Johan Gielis. (2003). [**A generic geometric transformation that unifies a wide range of natural and abstract shapes.**](https://bsapubs.onlinelibrary.wiley.com/doi/10.3732/ajb.90.3.333). *Am J Bot.* 90(3):333-8\n",
    "\n",
    "An interesting article about the parameters to choose for the super formula:\n",
    "[https://paulbourke.net/geometry/supershape/](https://paulbourke.net/geometry/supershape/)"
   ]
  },
  {
   "cell_type": "markdown",
   "metadata": {},
   "source": [
    "Below we loop over parameters and generate some shapes! We both visulize and save the shapes as `x` and `y` coordinate values for further analysis."
   ]
  },
  {
   "cell_type": "code",
   "execution_count": null,
   "metadata": {},
   "outputs": [],
   "source": [
    "angs = 360 # number of angles to sample\n",
    "\n",
    "phi_vals = np.linspace(0,2*math.pi,angs) # we are in radians, so we generate some angles to use\n",
    "\n",
    "m_vals = [2,3,4,5,6,7,8] # m values to loop over\n",
    "n1_vals = [5,30,70] # n1 vals\n",
    "n2_vals = [15,50,90] # n2 vals\n",
    "n3_vals = [25,70,110] # n3 vals\n",
    "a_vals = [1,2,4] # a vals\n",
    "b_vals = [1,5,7] # b vals\n",
    "\n",
    "# lists to store associated values of shapes\n",
    "m_list = []\n",
    "n1_list = []\n",
    "n2_list = []\n",
    "n3_list = []\n",
    "a_list = []\n",
    "b_list = []\n",
    "\n",
    "# colors, by variable \"m\"\n",
    "cols = [\"#ff0000\", \"#fc4444\", \"#fc6404\", \"#fcd444\", \"#8cc43c\", \"#029658\", \"#1abc9c\", \"#5bc0de\", \"#6454ac\", \"#fc8c84\"]\n",
    "\n",
    "# to store x and y vals for analysis\n",
    "coord_arr = np.zeros((len(m_vals)*len(n1_vals)*len(n2_vals)*len(n3_vals)*len(a_vals)*len(b_vals), \n",
    "                     angs, \n",
    "                     2))\n",
    "\n",
    "plot_num = 1 # a counter for the subplot\n",
    "\n",
    "plt.figure(figsize=(50,30))\n",
    "\n",
    "for m in m_vals:\n",
    "    col = cols[m-2] # change the color when the m value changes\n",
    "    for n1 in n1_vals:\n",
    "        for n2 in n2_vals:\n",
    "            for n3 in n3_vals:\n",
    "                for a in a_vals:\n",
    "                    for b in b_vals:\n",
    "                \n",
    "                        r_vals = superformula(phi_vals, m,n1,n2,n3,a,b)\n",
    "                        \n",
    "                        xvals, yvals = pol2cart(r_vals, phi_vals) # convert to x and y coordinate values\n",
    "                        arr = np.array((xvals, yvals)).T # place x and y vals into array\n",
    "                        coord_arr[plot_num-1,:,:] = arr # store shape to array\n",
    "        \n",
    "                        plt.subplot(63,27,plot_num)\n",
    "                        plt.fill(xvals, yvals, c=col)\n",
    "                        plt.gca().set_aspect(\"equal\")\n",
    "                        plt.axis(\"off\")\n",
    "                        \n",
    "                        plot_num += 1\n",
    "                        if plot_num%100==0:\n",
    "                            print(plot_num)\n",
    "\n",
    "                        # store shape parameter values to list\n",
    "                        m_list.append(m)\n",
    "                        n1_list.append(n1)\n",
    "                        n2_list.append(n2)\n",
    "                        n3_list.append(n3)\n",
    "                        a_list.append(a)\n",
    "                        b_list.append(b)\n",
    "                        \n",
    "\n",
    "\n",
    "\n",
    "plt.tight_layout()\n",
    "                "
   ]
  },
  {
   "cell_type": "code",
   "execution_count": null,
   "metadata": {},
   "outputs": [],
   "source": [
    "# create df of parameter values\n",
    "labels_df = pd.DataFrame({\n",
    "    \"m\":m_list,\n",
    "    \"n1\":n1_list,\n",
    "    \"n2\":n2_list,\n",
    "    \"n3\":n3_list,\n",
    "    \"a\":a_list,\n",
    "    \"b\":b_list})\n",
    "\n",
    "# convert to strings, because small number\n",
    "labels_df = labels_df.astype(str)\n",
    "\n",
    "# check df\n",
    "labels_df.head()"
   ]
  },
  {
   "cell_type": "markdown",
   "metadata": {},
   "source": [
    "# Calculate ECTs"
   ]
  },
  {
   "cell_type": "code",
   "execution_count": null,
   "metadata": {},
   "outputs": [],
   "source": [
    "# get number of shapes\n",
    "shape_num = len(m_vals)*len(n1_vals)*len(n2_vals)*len(n3_vals)*len(a_vals)*len(b_vals)\n",
    "\n",
    "# specify number of directions and threshold\n",
    "num_dirs = 32\n",
    "num_thresh = 48\n",
    "\n",
    "# to store ECTs\n",
    "ect_arr = np.zeros((shape_num,\n",
    "                    num_dirs,\n",
    "                    num_thresh))\n",
    "\n",
    "for i in range(shape_num):\n",
    "\n",
    "    if i%100==0:\n",
    "        print(i)\n",
    "\n",
    "    shape = coord_arr[i,:,:] # retrieve the current shape from the shape array\n",
    "    \n",
    "    G = EmbeddedGraph() # initiate graph\n",
    "    G.add_cycle(shape) # add the shape coordinates as a graph cycle\n",
    "    G.set_PCA_coordinates( center_type='min_max', scale_radius=1) # normalize the shape coordinates\n",
    "    \n",
    "    # initialize ECT\n",
    "    myect = ECT(num_dirs = num_dirs, num_thresh = num_thresh)\n",
    "\n",
    "    #calculate ECT\n",
    "    myect.calculateECT(G)\n",
    "\n",
    "    # The matrix is passed as an output above but is also saved internally. Get the saved matrix\n",
    "    M = myect.get_ECT()\n",
    "    \n",
    "    # save ECT\n",
    "    ect_arr[i, :, :] = M"
   ]
  },
  {
   "cell_type": "code",
   "execution_count": null,
   "metadata": {},
   "outputs": [],
   "source": [
    "plt.figure(figsize=(20,50))\n",
    "\n",
    "counter = 1\n",
    "\n",
    "for i in range(np.shape(ect_arr)[0]):\n",
    "        \n",
    "    curr_ect = ect_arr[i,:,:]\n",
    "    plt.subplot(63,27,counter)\n",
    "    plt.imshow(curr_ect.T)\n",
    "    plt.axis(\"off\")\n",
    "    \n",
    "    counter +=1\n",
    "        \n",
    "plt.tight_layout()"
   ]
  },
  {
   "cell_type": "markdown",
   "metadata": {},
   "source": [
    "________"
   ]
  },
  {
   "cell_type": "markdown",
   "metadata": {},
   "source": [
    "# PHATE (Potential of Heat-diffusion for Affinity-based Trajectory Embedding)"
   ]
  },
  {
   "cell_type": "markdown",
   "metadata": {},
   "source": [
    "We will be using [PHATE](https://github.com/KrishnaswamyLab/PHATE) to visualize the manifold underlying pavement cell shapes. You can learn more about PHATE from the following reference:\n",
    "\n",
    "Moon, van Dijk, Wang, Gigante et al. **[Visualizing Transitions and Structure for Biological Data Exploration](https://www.nature.com/articles/s41587-019-0336-3)**. 2019. *Nature Biotechnology*."
   ]
  },
  {
   "cell_type": "markdown",
   "metadata": {},
   "source": [
    "Before using PHATE, we will need to flatten the ect array"
   ]
  },
  {
   "cell_type": "code",
   "execution_count": null,
   "metadata": {},
   "outputs": [],
   "source": [
    "np.shape(ect_arr)"
   ]
  },
  {
   "cell_type": "code",
   "execution_count": null,
   "metadata": {},
   "outputs": [],
   "source": [
    "# flatten the cell ECT data to a 2D array by sample\n",
    "flat_ect = np.reshape(ect_arr,\n",
    "                             (np.shape(ect_arr)[0],\n",
    "                              np.shape(ect_arr)[1]*np.shape(ect_arr)[2])\n",
    "                            )"
   ]
  },
  {
   "cell_type": "markdown",
   "metadata": {},
   "source": [
    "### PHATE in 2 dimensions"
   ]
  },
  {
   "cell_type": "code",
   "execution_count": null,
   "metadata": {},
   "outputs": [],
   "source": [
    "# create the PHATE embedding and transform\n",
    "phate_operator = phate.PHATE(n_components=2)\n",
    "phate_super = phate_operator.fit_transform(flat_ect)"
   ]
  },
  {
   "cell_type": "markdown",
   "metadata": {},
   "source": [
    "Add the PHATE axes to the dataframe for plotting"
   ]
  },
  {
   "cell_type": "code",
   "execution_count": null,
   "metadata": {},
   "outputs": [],
   "source": [
    "labels_df[\"2Dphate1\"] = phate_super[:,0]\n",
    "labels_df[\"2Dphate2\"] = phate_super[:,1]"
   ]
  },
  {
   "cell_type": "markdown",
   "metadata": {},
   "source": [
    "Create a PHATE plot in 2D"
   ]
  },
  {
   "cell_type": "code",
   "execution_count": null,
   "metadata": {},
   "outputs": [],
   "source": [
    "plt.figure(figsize=(4*4,6*4)) # set figure size\n",
    "pt_size = 50 # set point size\n",
    "pal = \"inferno\" # set palette\n",
    "\n",
    "plt.subplot(3,2,1)\n",
    "sns.scatterplot(data=labels_df, x=\"2Dphate1\", y=\"2Dphate2\", hue=\"m\", legend=True, s=pt_size)\n",
    "plt.title(\"PHATE1 and PHATE2\\nby m\")\n",
    "\n",
    "plt.subplot(3,2,2)\n",
    "sns.scatterplot(data=labels_df, x=\"2Dphate1\", y=\"2Dphate2\", hue=\"n1\", legend=True, s=pt_size)\n",
    "plt.title(\"PHATE1 and PHATE2\\nby n1\")\n",
    "\n",
    "plt.subplot(3,2,3)\n",
    "sns.scatterplot(data=labels_df, x=\"2Dphate1\", y=\"2Dphate2\", hue=\"n2\", legend=True, s=pt_size)\n",
    "plt.title(\"PHATE1 and PHATE2\\nby n2\")\n",
    "\n",
    "plt.subplot(3,2,4)\n",
    "sns.scatterplot(data=labels_df, x=\"2Dphate1\", y=\"2Dphate2\", hue=\"n3\", legend=True, s=pt_size)\n",
    "plt.title(\"PHATE1 and PHATE2\\nby n3\")\n",
    "\n",
    "plt.subplot(3,2,5)\n",
    "sns.scatterplot(data=labels_df, x=\"2Dphate1\", y=\"2Dphate2\", hue=\"a\", legend=True, s=pt_size)\n",
    "plt.title(\"PHATE1 and PHATE2\\nby a\")\n",
    "\n",
    "plt.subplot(3,2,6)\n",
    "sns.scatterplot(data=labels_df, x=\"2Dphate1\", y=\"2Dphate2\", hue=\"b\", legend=True, s=pt_size)\n",
    "plt.title(\"PHATE1 and PHATE2\\nby b\")\n",
    "\n",
    "plt.tight_layout()"
   ]
  },
  {
   "cell_type": "markdown",
   "metadata": {},
   "source": [
    "### PHATE in 3 dimensions"
   ]
  },
  {
   "cell_type": "code",
   "execution_count": null,
   "metadata": {},
   "outputs": [],
   "source": [
    "# create the PHATE embedding and transform\n",
    "phate_operator = phate.PHATE(n_components=3)\n",
    "phate_super = phate_operator.fit_transform(flat_ect)"
   ]
  },
  {
   "cell_type": "markdown",
   "metadata": {},
   "source": [
    "Add the PHATE axes to the dataframe for plotting"
   ]
  },
  {
   "cell_type": "code",
   "execution_count": null,
   "metadata": {},
   "outputs": [],
   "source": [
    "labels_df[\"3Dphate1\"] = phate_super[:,0]\n",
    "labels_df[\"3Dphate2\"] = phate_super[:,1]\n",
    "labels_df[\"3Dphate3\"] = phate_super[:,2]"
   ]
  },
  {
   "cell_type": "markdown",
   "metadata": {},
   "source": [
    "Create a 3D animation by type"
   ]
  },
  {
   "cell_type": "code",
   "execution_count": null,
   "metadata": {},
   "outputs": [],
   "source": [
    "sample_labels = labels_df[\"m\"]\n",
    "\n",
    "# for a static plot use \"scatter3d\" instead of \"rotate_scatter3d\"\n",
    "# this saves to GIF and produces animation\n",
    "scprep.plot.rotate_scatter3d(phate_super, c=sample_labels, figsize=(8*2,6*2), ticks=True, label_prefix=\"PHATE\", filename=\"super_M.gif\", s=30)\n"
   ]
  },
  {
   "cell_type": "markdown",
   "metadata": {},
   "source": [
    "________"
   ]
  },
  {
   "cell_type": "markdown",
   "metadata": {},
   "source": [
    "# Save files"
   ]
  },
  {
   "cell_type": "markdown",
   "metadata": {},
   "source": [
    "### let us save the ECT array as a numpy `.npy` file"
   ]
  },
  {
   "cell_type": "code",
   "execution_count": null,
   "metadata": {},
   "outputs": [],
   "source": [
    "np.save(\"superformula_ect_arr.npy\", ect_arr)"
   ]
  },
  {
   "cell_type": "markdown",
   "metadata": {},
   "source": [
    "### let us also save the associated pandas dataframe as `.csv`"
   ]
  },
  {
   "cell_type": "code",
   "execution_count": null,
   "metadata": {},
   "outputs": [],
   "source": [
    "labels_df.to_csv(\"superformula_df.csv\")"
   ]
  },
  {
   "cell_type": "markdown",
   "metadata": {},
   "source": [
    "________"
   ]
  }
 ],
 "metadata": {
  "kernelspec": {
   "display_name": "Python 3 (ipykernel)",
   "language": "python",
   "name": "python3"
  },
  "language_info": {
   "codemirror_mode": {
    "name": "ipython",
    "version": 3
   },
   "file_extension": ".py",
   "mimetype": "text/x-python",
   "name": "python",
   "nbconvert_exporter": "python",
   "pygments_lexer": "ipython3",
   "version": "3.12.4"
  }
 },
 "nbformat": 4,
 "nbformat_minor": 4
}
